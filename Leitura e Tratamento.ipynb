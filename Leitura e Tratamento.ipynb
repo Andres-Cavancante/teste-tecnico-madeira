{
 "cells": [
  {
   "cell_type": "markdown",
   "id": "db23dc78",
   "metadata": {},
   "source": [
    "# <font color=blue size=5>Configurando o ambiente</font>"
   ]
  },
  {
   "cell_type": "markdown",
   "id": "4a2e722a",
   "metadata": {},
   "source": [
    "Importação de bibliotecas"
   ]
  },
  {
   "cell_type": "code",
   "execution_count": null,
   "id": "db6f25a0",
   "metadata": {},
   "outputs": [],
   "source": [
    "import mysql.connector as sql\n",
    "import pandas as pd\n",
    "import numpy as np"
   ]
  },
  {
   "cell_type": "markdown",
   "id": "6e40df09",
   "metadata": {},
   "source": [
    "Conectando com a base local do MySQL no banco 'vendas_2020'"
   ]
  },
  {
   "cell_type": "code",
   "execution_count": null,
   "id": "2de71d6d",
   "metadata": {},
   "outputs": [],
   "source": [
    "db = sql.connect(\n",
    "host = 'localhost',\n",
    "user = 'root',\n",
    "passwd = 'root',\n",
    "database = 'vendas_2020')"
   ]
  },
  {
   "cell_type": "markdown",
   "id": "f963cc2e",
   "metadata": {},
   "source": [
    "Ingestão dos dados na variável vendas_janeiro"
   ]
  },
  {
   "cell_type": "code",
   "execution_count": null,
   "id": "d75c7197",
   "metadata": {},
   "outputs": [],
   "source": [
    "vendas_janeiro = pd.read_sql('SELECT * FROM vendas_janeiro;', db)\n",
    "db.close()"
   ]
  },
  {
   "cell_type": "markdown",
   "id": "62f693a8",
   "metadata": {},
   "source": [
    "Visualização e remoção de linhas com dados ausentes"
   ]
  },
  {
   "cell_type": "code",
   "execution_count": null,
   "id": "cd36f810",
   "metadata": {},
   "outputs": [],
   "source": [
    "vendas_janeiro.head(5);"
   ]
  },
  {
   "cell_type": "code",
   "execution_count": null,
   "id": "ffe12cd9",
   "metadata": {},
   "outputs": [],
   "source": [
    "vendas_janeiro.isnull().sum();"
   ]
  },
  {
   "cell_type": "code",
   "execution_count": null,
   "id": "40c40e89",
   "metadata": {},
   "outputs": [],
   "source": [
    "vendas_janeiro[vendas_janeiro.isna().any(axis=1)];"
   ]
  },
  {
   "cell_type": "code",
   "execution_count": null,
   "id": "fbf6d902",
   "metadata": {
    "scrolled": false
   },
   "outputs": [],
   "source": [
    "vendas_janeiro = vendas_janeiro.dropna();"
   ]
  },
  {
   "cell_type": "code",
   "execution_count": null,
   "id": "9590cbb5",
   "metadata": {},
   "outputs": [],
   "source": [
    "vendas_janeiro.isnull().sum();"
   ]
  },
  {
   "cell_type": "markdown",
   "id": "1e68b16b",
   "metadata": {},
   "source": [
    "# <font color=blue size=5>Análise geral</font>"
   ]
  },
  {
   "cell_type": "markdown",
   "id": "b3779dd9",
   "metadata": {},
   "source": [
    "Informações básicas sobre o DataFrame"
   ]
  },
  {
   "cell_type": "code",
   "execution_count": null,
   "id": "7437fa34",
   "metadata": {},
   "outputs": [],
   "source": [
    "vendas_janeiro.describe().round(2)"
   ]
  },
  {
   "cell_type": "markdown",
   "id": "48eda431",
   "metadata": {},
   "source": [
    "# <font color=blue size=5>Taxa de aprovação</font>"
   ]
  },
  {
   "cell_type": "markdown",
   "id": "d6694b83",
   "metadata": {},
   "source": [
    "Taxa de aprovação geral dos pedidos para o mês de janeiro"
   ]
  },
  {
   "cell_type": "code",
   "execution_count": null,
   "id": "6af5f4ae",
   "metadata": {
    "scrolled": true
   },
   "outputs": [],
   "source": [
    "aprovados = vendas_janeiro.loc[vendas_janeiro['situacao']=='Aprovado']['situacao'].count()\n",
    "tot_pedidos = vendas_janeiro['situacao'].count()\n",
    "print('Taxa de aprovação:',((aprovados/tot_pedidos)*100).round(2),'%')"
   ]
  },
  {
   "cell_type": "markdown",
   "id": "18bff8b5",
   "metadata": {},
   "source": [
    "# <font color=blue size=5>Vendas por tipo e por canal</font>"
   ]
  },
  {
   "cell_type": "markdown",
   "id": "40d86ce6",
   "metadata": {},
   "source": [
    "Receita total por tipo de venda"
   ]
  },
  {
   "cell_type": "code",
   "execution_count": null,
   "id": "4d6672ed",
   "metadata": {
    "scrolled": true
   },
   "outputs": [],
   "source": [
    "vendas_janeiro[['tipo_venda','receita_total']].groupby(['tipo_venda']).sum().round(2)"
   ]
  },
  {
   "cell_type": "markdown",
   "id": "beede67a",
   "metadata": {},
   "source": [
    "Receita total por canal de venda"
   ]
  },
  {
   "cell_type": "code",
   "execution_count": null,
   "id": "0eeaef6b",
   "metadata": {},
   "outputs": [],
   "source": [
    "vendas_janeiro[['canal','receita_total']].groupby(['canal']).sum().sort_values(by=['receita_total'],ascending = False).round(2)"
   ]
  },
  {
   "cell_type": "markdown",
   "id": "5ed3eda7",
   "metadata": {},
   "source": [
    "Receita total agrupada por tipo e canal de venda"
   ]
  },
  {
   "cell_type": "code",
   "execution_count": null,
   "id": "9266f467",
   "metadata": {},
   "outputs": [],
   "source": [
    "vendas_janeiro[['tipo_venda','canal','receita_total']].groupby(['tipo_venda','canal']).sum().sort_values(by=['tipo_venda','receita_total'],ascending = [1,0]).round(2)"
   ]
  },
  {
   "cell_type": "markdown",
   "id": "4503efce",
   "metadata": {},
   "source": [
    "# <font color=blue size=5>Frete por UF</font>"
   ]
  },
  {
   "cell_type": "markdown",
   "id": "c996fca3",
   "metadata": {},
   "source": [
    "Valor total de receita oriunda do frete dos pedidos agrupado por estado"
   ]
  },
  {
   "cell_type": "code",
   "execution_count": null,
   "id": "76df643a",
   "metadata": {},
   "outputs": [],
   "source": [
    "vendas_janeiro[['entrega_uf','receita_frete']].groupby(['entrega_uf']).sum().sort_values(by='receita_frete', ascending = False).round(2)"
   ]
  },
  {
   "cell_type": "markdown",
   "id": "818ef9d1",
   "metadata": {},
   "source": [
    "# <font color=blue size=5>Receita média por categoria de produto</font>"
   ]
  },
  {
   "cell_type": "markdown",
   "id": "75160ac7",
   "metadata": {},
   "source": [
    "Criação de uma view relacionando categoria, receita total e quantidade de produtos"
   ]
  },
  {
   "cell_type": "code",
   "execution_count": null,
   "id": "901fa39d",
   "metadata": {},
   "outputs": [],
   "source": [
    "receita_por_categoria = vendas_janeiro[['categoria','receita_total','quantidade_produto']].groupby(['categoria']).sum().sort_values(by='receita_total', ascending = False)"
   ]
  },
  {
   "cell_type": "markdown",
   "id": "00477688",
   "metadata": {},
   "source": [
    "Receita média superior ou igual a R$500 por categoria para quantidades de produto superiores ou iguais a 10"
   ]
  },
  {
   "cell_type": "code",
   "execution_count": null,
   "id": "d8ed3c5a",
   "metadata": {},
   "outputs": [],
   "source": [
    "receita_por_categoria['receita_media'] = receita_por_categoria['receita_total']/receita_por_categoria['quantidade_produto']\n",
    "receita_por_categoria[(receita_por_categoria['quantidade_produto']>=10) & (receita_por_categoria['receita_media']>=500)].sort_values(by='receita_media', ascending = False).round(2)"
   ]
  },
  {
   "cell_type": "markdown",
   "id": "dfbd21b6",
   "metadata": {},
   "source": [
    "# <font color=blue size=5>Volume de vendas por região</font>"
   ]
  },
  {
   "cell_type": "markdown",
   "id": "fb9ffb76",
   "metadata": {},
   "source": [
    "Quantidade de vendas por estado no mês de janeiro"
   ]
  },
  {
   "cell_type": "code",
   "execution_count": null,
   "id": "717eca8a",
   "metadata": {
    "scrolled": true
   },
   "outputs": [],
   "source": [
    "vendas_janeiro.groupby('entrega_uf').size().reset_index(name='vendas').sort_values(by='vendas', ascending = False)"
   ]
  },
  {
   "cell_type": "markdown",
   "id": "55a762c9",
   "metadata": {},
   "source": [
    "# <font color=blue size=5>Vendas e receita por dia</font>"
   ]
  },
  {
   "cell_type": "markdown",
   "id": "9b891459",
   "metadata": {},
   "source": [
    "Adição da coluna dia_compra na tabela"
   ]
  },
  {
   "cell_type": "code",
   "execution_count": null,
   "id": "973d6518",
   "metadata": {},
   "outputs": [],
   "source": [
    "dias = pd.to_datetime(vendas_janeiro['data_compra']).dt.day\n",
    "vendas_janeiro['dia_compra'] = dias"
   ]
  },
  {
   "cell_type": "markdown",
   "id": "c9890df9",
   "metadata": {},
   "source": [
    "Receita total por dia no mês de janeiro"
   ]
  },
  {
   "cell_type": "code",
   "execution_count": null,
   "id": "998f6c37",
   "metadata": {},
   "outputs": [],
   "source": [
    "vendas_janeiro[['dia_compra','receita_total']].groupby('dia_compra').sum().round(2)"
   ]
  },
  {
   "cell_type": "markdown",
   "id": "943e818a",
   "metadata": {},
   "source": [
    "Vendas por dia no mês de janeiro"
   ]
  },
  {
   "cell_type": "code",
   "execution_count": null,
   "id": "33e7c554",
   "metadata": {},
   "outputs": [],
   "source": [
    "vendas_janeiro.groupby('dia_compra').size().reset_index(name='vendas')"
   ]
  },
  {
   "cell_type": "code",
   "execution_count": null,
   "id": "802ddfcd",
   "metadata": {},
   "outputs": [],
   "source": [
    "vendas_janeiro.to_excel(\"Base Tratada.xlsx\", index=False)"
   ]
  }
 ],
 "metadata": {
  "kernelspec": {
   "display_name": "Python 3 (ipykernel)",
   "language": "python",
   "name": "python3"
  },
  "language_info": {
   "codemirror_mode": {
    "name": "ipython",
    "version": 3
   },
   "file_extension": ".py",
   "mimetype": "text/x-python",
   "name": "python",
   "nbconvert_exporter": "python",
   "pygments_lexer": "ipython3",
   "version": "3.9.7"
  }
 },
 "nbformat": 4,
 "nbformat_minor": 5
}
